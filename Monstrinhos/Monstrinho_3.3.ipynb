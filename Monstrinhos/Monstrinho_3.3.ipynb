{
 "cells": [
  {
   "cell_type": "markdown",
   "metadata": {},
   "source": [
    "### Monstrinho 3.3 - Classes em Python não pagam imposto sobre herança\n",
    "\n",
    "#### Enunciado:\n",
    "Objetivo: Modele algum conceito científico utilizando herança de classes.\n",
    "\n",
    "Considerações do experimento: O uso da herança de classes deve fazer sentido\n",
    "dentro do contexto científico escolhido, isto é, deve haver uma justificativa bem embasada\n",
    "para o uso de herança de classes na sua entrega. Certifique-se que a classe mãe tem pelo\n",
    "menos um método que não seja dunder para ser herdado pela classe filha. Garanta que a\n",
    "classe filha tem pelo menos um método (dunder ou não) que justifique a sua criação."
   ]
  },
  {
   "cell_type": "markdown",
   "metadata": {},
   "source": [
    "#### Introdução \n",
    "\n",
    "Estrelas podem ser classificadas de acordo com sua cor que varia a partir de dados como a temperatura da superfície delas que está diretamente relacionada com a massa de uma estrela. Estrelas mais massivas tendem a possuir uma cor mais próxima ao azul, enquanto estrelas menos massivas tendem a possuir cor mais próxima ao vermelho. Além disso estrelas mais massivas podem virar estrelas de nêutrons ou buracos negros no fim de sua vida, enquanto entrelas menos massivas podem virar anãs brancas.\n",
    "\n",
    "A classificação utilizada para esse trabalho foi feita com base na tabela abaixo. As devidas referências estão no final do notebook.\n",
    "<img title=\"Tabela da classificação de estrelas\" alt=\"Alt text\" src=\"Imagens/Tabela_classificação_de_estrelas.png\">\n",
    "\n",
    "Sendo assim, a ideia de trabalhar com esse tema é fazer duas classes, uma que recebe a informação da cor de uma estrela e retorna a temperatura da superfície, massa, raio e raridade dela e outra classe que, de acordo com a massa da estrela, define qual será o estágio de vida final dela."
   ]
  },
  {
   "cell_type": "markdown",
   "metadata": {},
   "source": [
    "#### Criando a classe Estrelas\n",
    "\n"
   ]
  },
  {
   "cell_type": "code",
   "execution_count": 1,
   "metadata": {},
   "outputs": [],
   "source": [
    "class Estrelas:\n",
    "    \"\"\"Estima a massa de uma estrela a partir de informações variadas\"\"\"\n",
    "    \n",
    "    def __init__(self, cor_da_estrela):\n",
    "        self.cor = cor_da_estrela\n",
    "        \n",
    "    def identificar_classe(self):\n",
    "        \"\"\"Identifica qual a classe a que uma estrela pertence de acordo com a cor dela\"\"\"\n",
    "        \n",
    "        if self.cor == \"light orangish red\":\n",
    "            classe_da_estrela = \"M\"\n",
    "            temperatura = \"2.300 a 3.900\"\n",
    "            massa = \"0.08 a 0.45\"\n",
    "            raio = \"<= 0.7\"\n",
    "            raridade = \"76%\"\n",
    "        \n",
    "        elif self.cor == \"light orange\":\n",
    "            classe_da_estrela = \"K\"\n",
    "            temperatura = \"3.900 a 5.300\"\n",
    "            massa = \"0.45 a 0.8\"\n",
    "            raio = \"0.7 a 0.96\"\n",
    "            raridade = \"12%\"\n",
    "        \n",
    "        elif self.cor == \"yellow\":\n",
    "            classe_da_estrela = \"G\"\n",
    "            temperatura = \"5.300 a 6.000\"\n",
    "            massa = \"0.8 a 1.04\"\n",
    "            raio = \"0.96 a 1.15\"\n",
    "            raridade = \"7.6%\"\n",
    "        \n",
    "        elif self.cor == \"yellowish white\":\n",
    "            classe_da_estrela = \"F\"\n",
    "            temperatura = \"6.000 a 7.300\"\n",
    "            massa = \"1.04 a 1.4\"\n",
    "            raio = \"1.15 a 1.4\"\n",
    "            raridade = \"3%\"\n",
    "            \n",
    "        elif self.cor == \"white\":\n",
    "            classe_da_estrela = \"A\"\n",
    "            temperatura = \"7.300 a 10.000\"\n",
    "            massa = \"1.4 a 2.1\"\n",
    "            raio = \"1.4 a 1.8\"\n",
    "            raridade = \"0.61%\"\n",
    "            \n",
    "        elif self.cor == \"bluish white\":\n",
    "            classe_da_estrela = \"B\"\n",
    "            temperatura = \"10.000 a 33.000\"\n",
    "            massa = \"2.1 a 16\"\n",
    "            raio = \"1.8 a 6.6\"\n",
    "            raridade = \"0.12%\"\n",
    "            \n",
    "        elif self.cor == \"blue\":\n",
    "            classe_da_estrela = \"O\"\n",
    "            temperatura = \">= 33.000\"\n",
    "            massa = \">= 16\"\n",
    "            raio = \">= 6.6\"\n",
    "            raridade = \"0.00003%\"\n",
    "            \n",
    "        return classe_da_estrela, temperatura, massa, raio, raridade\n",
    "    \n",
    "    def __repr__(self):\n",
    "        \n",
    "        classe, temperatura, massa, raio, raridade = self.identificar_classe()\n",
    "        \n",
    "        return f\"A categoria da estrela é {classe}.\""
   ]
  },
  {
   "cell_type": "markdown",
   "metadata": {},
   "source": [
    "#### Criando a classe Final_de_vida"
   ]
  },
  {
   "cell_type": "code",
   "execution_count": 2,
   "metadata": {},
   "outputs": [],
   "source": [
    "class Final_de_vida(Estrelas):\n",
    "    \"\"\"Define qual será o final da vida de uma estrela de acordo com a massa dela\"\"\"\n",
    "    \n",
    "    def __init__(self, cor_da_estrela):\n",
    "        super().__init__(cor_da_estrela)\n",
    "        self.cor = cor_da_estrela\n",
    "        \n",
    "    def definir_fim(self):\n",
    "        \n",
    "        classe, temperatura, massa, raio, raridade = self.identificar_classe()\n",
    "        \n",
    "        if massa == \">= 16\":\n",
    "            fim = \"supernova e, posteriormente, um buraco negro\"\n",
    "        \n",
    "        elif massa == \"2.1 a 16\":\n",
    "            fim = \"supernova e, porteriormente, uma estrela de nêutrons\"\n",
    "            \n",
    "        else:\n",
    "            fim = \"anã branca\"\n",
    "        \n",
    "        return fim, classe, temperatura, massa, raio, raridade\n",
    "    \n",
    "    def __repr__(self):\n",
    "        fim, classe, temperatura, massa, raio, raridade = self.definir_fim()\n",
    "        return f\"Informações da estrela: \\nA categoria da estrela é {classe}. \\nAs estrelas pertencentes a esse grupo tem a temperatura de {temperatura} K. \\nEm relação ao tamanho, essa classe de estrela tem {massa} vezes a massa do Sol e {raio} vezes o raio do Sol. \\nEm relação à raridade dessa classe de estrela, {raridade} das estrelas são pertencem a essa categoria \\n \\nFinal da vida da estrela: \\nO estágio final da vida da estrela escolhida será de se tornar uma {fim}\""
   ]
  },
  {
   "cell_type": "markdown",
   "metadata": {},
   "source": [
    "#### Testando"
   ]
  },
  {
   "cell_type": "code",
   "execution_count": 3,
   "metadata": {},
   "outputs": [
    {
     "data": {
      "text/plain": [
       "Informações da estrela: \n",
       "A categoria da estrela é G. \n",
       "As estrelas pertencentes a esse grupo tem a temperatura de 5.300 a 6.000 K. \n",
       "Em relação ao tamanho, essa classe de estrela tem 0.8 a 1.04 vezes a massa do Sol e 0.96 a 1.15 vezes o raio do Sol. \n",
       "Em relação à raridade dessa classe de estrela, 7.6% das estrelas são pertencem a essa categoria \n",
       " \n",
       "Final da vida da estrela: \n",
       "O estágio final da vida da estrela escolhida será de se tornar uma anã branca"
      ]
     },
     "execution_count": 3,
     "metadata": {},
     "output_type": "execute_result"
    }
   ],
   "source": [
    "Sol = Final_de_vida(\"yellow\")\n",
    "Sol"
   ]
  },
  {
   "cell_type": "code",
   "execution_count": 4,
   "metadata": {},
   "outputs": [
    {
     "data": {
      "text/plain": [
       "Informações da estrela: \n",
       "A categoria da estrela é A. \n",
       "As estrelas pertencentes a esse grupo tem a temperatura de 7.300 a 10.000 K. \n",
       "Em relação ao tamanho, essa classe de estrela tem 1.4 a 2.1 vezes a massa do Sol e 1.4 a 1.8 vezes o raio do Sol. \n",
       "Em relação à raridade dessa classe de estrela, 0.61% das estrelas são pertencem a essa categoria \n",
       " \n",
       "Final da vida da estrela: \n",
       "O estágio final da vida da estrela escolhida será de se tornar uma anã branca"
      ]
     },
     "execution_count": 4,
     "metadata": {},
     "output_type": "execute_result"
    }
   ],
   "source": [
    "Sirius = Final_de_vida(\"white\") #Sirius é a estrela mais brilhante que pode ser vista no céu\n",
    "Sirius"
   ]
  },
  {
   "cell_type": "code",
   "execution_count": 5,
   "metadata": {},
   "outputs": [
    {
     "data": {
      "text/plain": [
       "Informações da estrela: \n",
       "A categoria da estrela é O. \n",
       "As estrelas pertencentes a esse grupo tem a temperatura de >= 33.000 K. \n",
       "Em relação ao tamanho, essa classe de estrela tem >= 16 vezes a massa do Sol e >= 6.6 vezes o raio do Sol. \n",
       "Em relação à raridade dessa classe de estrela, 0.00003% das estrelas são pertencem a essa categoria \n",
       " \n",
       "Final da vida da estrela: \n",
       "O estágio final da vida da estrela escolhida será de se tornar uma supernova e, posteriormente, um buraco negro"
      ]
     },
     "execution_count": 5,
     "metadata": {},
     "output_type": "execute_result"
    }
   ],
   "source": [
    "Alnitak = Final_de_vida(\"blue\") #Alnitak é a maior das Três Marias\n",
    "Alnitak"
   ]
  },
  {
   "cell_type": "markdown",
   "metadata": {},
   "source": [
    "#### Código com input para as informações de uma estrela"
   ]
  },
  {
   "cell_type": "code",
   "execution_count": 6,
   "metadata": {},
   "outputs": [
    {
     "data": {
      "text/plain": [
       "Informações da estrela: \n",
       "A categoria da estrela é G. \n",
       "As estrelas pertencentes a esse grupo tem a temperatura de 5.300 a 6.000 K. \n",
       "Em relação ao tamanho, essa classe de estrela tem 0.8 a 1.04 vezes a massa do Sol e 0.96 a 1.15 vezes o raio do Sol. \n",
       "Em relação à raridade dessa classe de estrela, 7.6% das estrelas são pertencem a essa categoria \n",
       " \n",
       "Final da vida da estrela: \n",
       "O estágio final da vida da estrela escolhida será de se tornar uma anã branca"
      ]
     },
     "execution_count": 6,
     "metadata": {},
     "output_type": "execute_result"
    }
   ],
   "source": [
    "estrela = Final_de_vida(input(\"Insira a cor da estrela\"))\n",
    "estrela"
   ]
  },
  {
   "cell_type": "markdown",
   "metadata": {},
   "source": [
    "#### Conclusão \n",
    "\n",
    "As classes se apresentaram muito úteis nesse trabalho. E foi importante aprender a utilizar bem os métodos presentes na função mãe."
   ]
  },
  {
   "cell_type": "markdown",
   "metadata": {},
   "source": [
    "#### Referências\n",
    "\n",
    "Tabela com a classoficação das estrelas: WIKIPEDIA CONTRIBUTORS. Stellar classification. Disponível em: <https://en.wikipedia.org/wiki/Stellar_classification>."
   ]
  },
  {
   "cell_type": "code",
   "execution_count": null,
   "metadata": {},
   "outputs": [],
   "source": []
  }
 ],
 "metadata": {
  "kernelspec": {
   "display_name": "base",
   "language": "python",
   "name": "python3"
  },
  "language_info": {
   "codemirror_mode": {
    "name": "ipython",
    "version": 3
   },
   "file_extension": ".py",
   "mimetype": "text/x-python",
   "name": "python",
   "nbconvert_exporter": "python",
   "pygments_lexer": "ipython3",
   "version": "3.11.5"
  }
 },
 "nbformat": 4,
 "nbformat_minor": 2
}
