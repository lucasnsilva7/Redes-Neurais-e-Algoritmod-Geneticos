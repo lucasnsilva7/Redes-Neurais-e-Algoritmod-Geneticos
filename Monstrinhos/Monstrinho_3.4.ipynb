{
 "cells": [
  {
   "cell_type": "markdown",
   "metadata": {},
   "source": [
    "### Monstrinho 3.4 - \\_\\_dunder\\_\\_\n",
    "\n",
    "#### Enunciado \n",
    "\n",
    "Objetivo: Se informe sobre métodos dunder que não foram utilizados no material de\n",
    "aula e crie uma classe que contenha pelo menos 3 destes métodos dunder. Faça códigos\n",
    "onde cada um destes métodos dunder seja acessado sem os chamar explicitamente (exemplo: não é para rodar a.__add__(b) mas sim a + b para o caso do dunder __add__).\n",
    "\n",
    "Considerações do experimento: A classe deve conter pelo menos 3 métodos dunder\n",
    "que não foram vistos no material da disciplina. Sua classe deve fazer sentido, isto é, não\n",
    "crie uma classe “sem pé nem cabeça” apenas para a entrega. Reflita sobre uma classe\n",
    "onde os métodos dunder propostos realmente fazem sentido. Na sua entrega, explique\n",
    "brevemente o que fazem os métodos dunder que escolheu e mostre eles em ação com uma\n",
    "instância da sua classe.\n"
   ]
  },
  {
   "cell_type": "markdown",
   "metadata": {},
   "source": [
    "#### Importando bibliotecas"
   ]
  },
  {
   "cell_type": "code",
   "execution_count": 31,
   "metadata": {},
   "outputs": [],
   "source": [
    "import pygame"
   ]
  },
  {
   "cell_type": "markdown",
   "metadata": {},
   "source": [
    "#### Ideia de classe: Pontuacao de um jogo \n",
    "\n",
    "A classe escolhida foi uma que vai utilizar os métodos dunder \\_\\_iadd\\_\\_ para adicionar pontos a um jogador, \\_\\_isub\\_\\_ para subtrair pontos de um jogador, \\_\\_eq\\_\\_ para conferir se dois jogadores estão com a mesma pontuação, \\_\\_lt\\_\\_ e \\_\\_gt\\_\\_ para conferir qual jogador possui mais pontos."
   ]
  },
  {
   "cell_type": "code",
   "execution_count": 32,
   "metadata": {},
   "outputs": [],
   "source": [
    "class Pontuacao:\n",
    "    def __init__(self, pont_atual, nome, tipo_jogador):\n",
    "        self.pont_atual = pont_atual\n",
    "        self.nome = nome\n",
    "        self.tipo = tipo_jogador\n",
    "        \n",
    "    def __repr__(self):\n",
    "        return f\"O {self.tipo} {self.nome} possui {self.pont_atual} pontos\"\n",
    "        \n",
    "    def __iadd__(self, ponto):\n",
    "        \"\"\"Executa a operação ponto atual += ponto\"\"\"\n",
    "        \n",
    "        self.pont_atual += ponto\n",
    "        \n",
    "        return self\n",
    "    \n",
    "    def __isub__(self, ponto):\n",
    "        \"\"\"Executa a operação ponto atual -= ponto\"\"\"\n",
    "        \n",
    "        self.pont_atual -= ponto\n",
    "        \n",
    "        return self\n",
    "    \n",
    "    def __eq__(self, jogador_2):\n",
    "        \"\"\"Confere se dois jogadores possuem a mesma quantidade de pontos\"\"\"\n",
    "        \n",
    "        if self.pont_atual == jogador_2.pont_atual:\n",
    "            return True\n",
    "        else:\n",
    "            return False\n",
    "        \n",
    "    def __lt__(jogador_1, jogador_2):\n",
    "        \"\"\"Confere se o jogador 1 tem menos pontos que o jogador 2\"\"\"\n",
    "            \n",
    "        if jogador_1.pont_atual < jogador_2.pont_atual:\n",
    "            return True\n",
    "        else: \n",
    "            return False\n",
    "        \n",
    "    def __gt__(jogador_1, jogador_2):\n",
    "        \"\"\"Confere se o jogador 1 tem mais pontos que o jogador 2\"\"\"\n",
    "        \n",
    "        if jogador_1.pont_atual > jogador_2.pont_atual:\n",
    "            return True\n",
    "        else: \n",
    "            return False"
   ]
  },
  {
   "cell_type": "markdown",
   "metadata": {},
   "source": [
    "#### Testando a classe Pontuacao"
   ]
  },
  {
   "cell_type": "code",
   "execution_count": 33,
   "metadata": {},
   "outputs": [
    {
     "data": {
      "text/plain": [
       "O jogador Lucas possui 0 pontos"
      ]
     },
     "execution_count": 33,
     "metadata": {},
     "output_type": "execute_result"
    }
   ],
   "source": [
    "lucas = Pontuacao(0, \"Lucas\", \"jogador\")\n",
    "lucas"
   ]
  },
  {
   "cell_type": "code",
   "execution_count": 34,
   "metadata": {},
   "outputs": [
    {
     "data": {
      "text/plain": [
       "O jogador Lucas possui 3 pontos"
      ]
     },
     "execution_count": 34,
     "metadata": {},
     "output_type": "execute_result"
    }
   ],
   "source": [
    "lucas += 3\n",
    "lucas"
   ]
  },
  {
   "cell_type": "code",
   "execution_count": 35,
   "metadata": {},
   "outputs": [
    {
     "data": {
      "text/plain": [
       "O jogador Lucas possui 2 pontos"
      ]
     },
     "execution_count": 35,
     "metadata": {},
     "output_type": "execute_result"
    }
   ],
   "source": [
    "lucas -= 1\n",
    "lucas"
   ]
  },
  {
   "cell_type": "code",
   "execution_count": 36,
   "metadata": {},
   "outputs": [
    {
     "data": {
      "text/plain": [
       "O jogador Luiz possui 0 pontos"
      ]
     },
     "execution_count": 36,
     "metadata": {},
     "output_type": "execute_result"
    }
   ],
   "source": [
    "luiz = Pontuacao(0, \"Luiz\", \"jogador\")\n",
    "luiz"
   ]
  },
  {
   "cell_type": "code",
   "execution_count": 37,
   "metadata": {},
   "outputs": [
    {
     "data": {
      "text/plain": [
       "False"
      ]
     },
     "execution_count": 37,
     "metadata": {},
     "output_type": "execute_result"
    }
   ],
   "source": [
    "lucas == luiz"
   ]
  },
  {
   "cell_type": "code",
   "execution_count": 38,
   "metadata": {},
   "outputs": [
    {
     "data": {
      "text/plain": [
       "O jogador Luiz possui 2 pontos"
      ]
     },
     "execution_count": 38,
     "metadata": {},
     "output_type": "execute_result"
    }
   ],
   "source": [
    "luiz += 2\n",
    "luiz"
   ]
  },
  {
   "cell_type": "code",
   "execution_count": 39,
   "metadata": {},
   "outputs": [
    {
     "data": {
      "text/plain": [
       "True"
      ]
     },
     "execution_count": 39,
     "metadata": {},
     "output_type": "execute_result"
    }
   ],
   "source": [
    "lucas == luiz"
   ]
  },
  {
   "cell_type": "code",
   "execution_count": 40,
   "metadata": {},
   "outputs": [
    {
     "data": {
      "text/plain": [
       "O jogador Luiz possui 1 pontos"
      ]
     },
     "execution_count": 40,
     "metadata": {},
     "output_type": "execute_result"
    }
   ],
   "source": [
    "luiz -= 1\n",
    "luiz"
   ]
  },
  {
   "cell_type": "code",
   "execution_count": 41,
   "metadata": {},
   "outputs": [
    {
     "data": {
      "text/plain": [
       "True"
      ]
     },
     "execution_count": 41,
     "metadata": {},
     "output_type": "execute_result"
    }
   ],
   "source": [
    "luiz < lucas"
   ]
  },
  {
   "cell_type": "code",
   "execution_count": 42,
   "metadata": {},
   "outputs": [
    {
     "data": {
      "text/plain": [
       "True"
      ]
     },
     "execution_count": 42,
     "metadata": {},
     "output_type": "execute_result"
    }
   ],
   "source": [
    "lucas > luiz"
   ]
  },
  {
   "cell_type": "markdown",
   "metadata": {},
   "source": [
    "Com essa classe está funcionando de forma correta, vamos mostrar uma possível aplicação para ela.\n",
    "\n",
    "A ideia é montar a história de como a seleção brasileira ganhou seu pentacampeonato no ano de 2002 passando pela quantidade de gols que a selação fez em relação aos seus concorrentes e se ela ganhou os jogos a partir desses resultados.\n",
    "\n",
    "A copa do mundo é o principal torneiro de futebol organizado pela FIFA, nesse torneio, as seleções de paises que passam da etapa das eliminatórias jogam uma fase de grupos e, em seguida uma fase de final.\n",
    "\n",
    "Na fase de grupos cada seleção em um grupo de 4 seleções joga com as outras 3 seleções do mesmo grupo. Os dois paises que mais somaram pontos nessa fase passam para a fase final. Existem 8 grupos nomeados de A à H.\n",
    "\n",
    "Na fase de final os times que passaram para essa fase se enfrentam em um jogo que não pode terminar empatado, apenas um dos dois times passam para a próxima etapa. As etapas da fase de final são: oitavas de final, quartas de final, semifinais e, finalmente, a final.\n",
    "\n",
    "A trajetória do Brasil para alcançar o pentacampeonato de 2002 é descrita pela imagem abaixo:\n",
    "\n",
    "<img title=\"Trajetória da seleção brasileira na copa de 2002\" alt=\"Alt text\" src=\"Imagens/Trajetoria_selecao_2002.png\">\n",
    "\n",
    "Imagem autoral"
   ]
  },
  {
   "cell_type": "markdown",
   "metadata": {},
   "source": [
    "#### Definindo a função partida"
   ]
  },
  {
   "cell_type": "code",
   "execution_count": 43,
   "metadata": {},
   "outputs": [],
   "source": [
    "def partida(time_2, gols_br, gols_2):\n",
    "    \n",
    "    Brasil = Pontuacao(0, \"Brasil\", \"time\")\n",
    "    selecao_2 = Pontuacao(0, time_2, \"time\")\n",
    "\n",
    "    print(\"Início do jogo\")\n",
    "    print(Brasil)\n",
    "    print(selecao_2)\n",
    "\n",
    "    print()\n",
    "    print(\"Fim de jogo\")\n",
    "    Brasil += gols_br\n",
    "    selecao_2 += gols_2\n",
    "\n",
    "    print(Brasil)\n",
    "    print(selecao_2)\n",
    "    print(f\"O placar final é Brasil {gols_br} x {gols_2} {selecao_2.nome}\")\n",
    "    print()\n",
    "\n",
    "    if Brasil > selecao_2:\n",
    "        print(\"Brasil ganhou \\nBrasil sil sil\")\n",
    "    elif Brasil < selecao_2:\n",
    "        print(\"Brasil perdeu\")\n",
    "    elif Brasil == selecao_2:\n",
    "        print(\"Penaltis para o desempate\")"
   ]
  },
  {
   "cell_type": "markdown",
   "metadata": {},
   "source": [
    "**Fase de grupos**\n",
    "\n",
    "Brasil x Turquia"
   ]
  },
  {
   "cell_type": "code",
   "execution_count": 44,
   "metadata": {},
   "outputs": [
    {
     "name": "stdout",
     "output_type": "stream",
     "text": [
      "Início do jogo\n",
      "O time Brasil possui 0 pontos\n",
      "O time Turquia possui 0 pontos\n",
      "\n",
      "Fim de jogo\n",
      "O time Brasil possui 2 pontos\n",
      "O time Turquia possui 1 pontos\n",
      "O placar final é Brasil 2 x 1 Turquia\n",
      "\n",
      "Brasil ganhou \n",
      "Brasil sil sil\n"
     ]
    }
   ],
   "source": [
    "partida(\"Turquia\", 2, 1)"
   ]
  },
  {
   "cell_type": "markdown",
   "metadata": {},
   "source": [
    "Brasil x China"
   ]
  },
  {
   "cell_type": "code",
   "execution_count": 45,
   "metadata": {},
   "outputs": [
    {
     "name": "stdout",
     "output_type": "stream",
     "text": [
      "Início do jogo\n",
      "O time Brasil possui 0 pontos\n",
      "O time China possui 0 pontos\n",
      "\n",
      "Fim de jogo\n",
      "O time Brasil possui 4 pontos\n",
      "O time China possui 0 pontos\n",
      "O placar final é Brasil 4 x 0 China\n",
      "\n",
      "Brasil ganhou \n",
      "Brasil sil sil\n"
     ]
    }
   ],
   "source": [
    "partida(\"China\", 4, 0)"
   ]
  },
  {
   "cell_type": "markdown",
   "metadata": {},
   "source": [
    "Brasil x Costa Rica"
   ]
  },
  {
   "cell_type": "code",
   "execution_count": 46,
   "metadata": {},
   "outputs": [
    {
     "name": "stdout",
     "output_type": "stream",
     "text": [
      "Início do jogo\n",
      "O time Brasil possui 0 pontos\n",
      "O time Costa Rica possui 0 pontos\n",
      "\n",
      "Fim de jogo\n",
      "O time Brasil possui 5 pontos\n",
      "O time Costa Rica possui 2 pontos\n",
      "O placar final é Brasil 5 x 2 Costa Rica\n",
      "\n",
      "Brasil ganhou \n",
      "Brasil sil sil\n"
     ]
    }
   ],
   "source": [
    "partida(\"Costa Rica\", 5, 2)"
   ]
  },
  {
   "cell_type": "markdown",
   "metadata": {},
   "source": [
    "**Oitava de final**\n",
    "\n",
    "Brasil x Bélgica"
   ]
  },
  {
   "cell_type": "code",
   "execution_count": 47,
   "metadata": {},
   "outputs": [
    {
     "name": "stdout",
     "output_type": "stream",
     "text": [
      "Início do jogo\n",
      "O time Brasil possui 0 pontos\n",
      "O time Bélgica possui 0 pontos\n",
      "\n",
      "Fim de jogo\n",
      "O time Brasil possui 2 pontos\n",
      "O time Bélgica possui 0 pontos\n",
      "O placar final é Brasil 2 x 0 Bélgica\n",
      "\n",
      "Brasil ganhou \n",
      "Brasil sil sil\n"
     ]
    }
   ],
   "source": [
    "partida(\"Bélgica\", 2, 0)"
   ]
  },
  {
   "cell_type": "markdown",
   "metadata": {},
   "source": [
    "**Quartas de final**\n",
    "\n",
    "Brasil x Inglaterra"
   ]
  },
  {
   "cell_type": "code",
   "execution_count": 48,
   "metadata": {},
   "outputs": [
    {
     "name": "stdout",
     "output_type": "stream",
     "text": [
      "Início do jogo\n",
      "O time Brasil possui 0 pontos\n",
      "O time Inglaterra possui 0 pontos\n",
      "\n",
      "Fim de jogo\n",
      "O time Brasil possui 2 pontos\n",
      "O time Inglaterra possui 1 pontos\n",
      "O placar final é Brasil 2 x 1 Inglaterra\n",
      "\n",
      "Brasil ganhou \n",
      "Brasil sil sil\n"
     ]
    }
   ],
   "source": [
    "partida(\"Inglaterra\", 2, 1)"
   ]
  },
  {
   "cell_type": "markdown",
   "metadata": {},
   "source": [
    "**Semifinal**\n",
    "\n",
    "Brasil x Turquia"
   ]
  },
  {
   "cell_type": "code",
   "execution_count": 49,
   "metadata": {},
   "outputs": [
    {
     "name": "stdout",
     "output_type": "stream",
     "text": [
      "Início do jogo\n",
      "O time Brasil possui 0 pontos\n",
      "O time Turquia possui 0 pontos\n",
      "\n",
      "Fim de jogo\n",
      "O time Brasil possui 1 pontos\n",
      "O time Turquia possui 0 pontos\n",
      "O placar final é Brasil 1 x 0 Turquia\n",
      "\n",
      "Brasil ganhou \n",
      "Brasil sil sil\n"
     ]
    }
   ],
   "source": [
    "partida(\"Turquia\", 1, 0)"
   ]
  },
  {
   "cell_type": "markdown",
   "metadata": {},
   "source": [
    "**A grande final**\n",
    "\n",
    "Brasil x Alemanha"
   ]
  },
  {
   "cell_type": "code",
   "execution_count": 50,
   "metadata": {},
   "outputs": [
    {
     "name": "stdout",
     "output_type": "stream",
     "text": [
      "Início do jogo\n",
      "O time Brasil possui 0 pontos\n",
      "O time Alemanha possui 0 pontos\n",
      "\n",
      "Fim de jogo\n",
      "O time Brasil possui 2 pontos\n",
      "O time Alemanha possui 0 pontos\n",
      "O placar final é Brasil 2 x 0 Alemanha\n",
      "\n",
      "Brasil ganhou \n",
      "Brasil sil sil\n",
      "\n",
      "Acabooouuu, é pentaaa, é pentaaa!\n"
     ]
    }
   ],
   "source": [
    "partida(\"Alemanha\", 2, 0)\n",
    "print()\n",
    "print(\"Acabooouuu, é pentaaa, é pentaaa!\")"
   ]
  },
  {
   "cell_type": "markdown",
   "metadata": {},
   "source": [
    "#### Conclusão\n",
    "\n",
    "Os métodos dunder tiveram grande utilidade nesse caso, mesmo ele sendo simples. Mesmo usando uma classe simples é possível perceber o quão funcional pode ser utlizar os métodos dunder para realizar diversas tarefas em python. Algo que poderia melhorar, por exemplo, é a quantidade de atributos, ao invés de calcular += em relação aos pontos é possível, por exemplo, adicionar em 1 a quantidade de partidas jogadas por cada jogador. "
   ]
  },
  {
   "cell_type": "markdown",
   "metadata": {},
   "source": [
    "#### Parte extra: \n",
    "\n",
    "Áudio do Galvão Bueno narrando a conquista do pentacampeonato da seleção brasileira."
   ]
  },
  {
   "cell_type": "code",
   "execution_count": 51,
   "metadata": {},
   "outputs": [],
   "source": [
    "pygame.mixer.init()\n",
    "pygame.mixer.music.load(\"Áudios\\Brasil_pentacampeonato_2002.mp3\")\n",
    "pygame.mixer.music.play()"
   ]
  },
  {
   "cell_type": "markdown",
   "metadata": {},
   "source": [
    "#### Referência \n",
    "\n",
    "Copa do Mundo FIFA de 2002 – Wikipédia, a enciclopédia livre. Disponível em: <https://pt.wikipedia.org/wiki/Copa_do_Mundo_FIFA_de_2002>.\n",
    "\n",
    "HUNNER, T. Every dunder method in Python. Disponível em: <https://www.pythonmorsels.com/every-dunder-method/>. Acesso em: 1 abr. 2025.\n",
    "\n",
    "NO. tocando arquivos mp3 no Python. Disponível em: <https://pt.stackoverflow.com/questions/449082/tocando-arquivos-mp3-no-python>. Acesso em: 1 abr. 2025."
   ]
  },
  {
   "cell_type": "markdown",
   "metadata": {},
   "source": []
  }
 ],
 "metadata": {
  "kernelspec": {
   "display_name": "base",
   "language": "python",
   "name": "python3"
  },
  "language_info": {
   "codemirror_mode": {
    "name": "ipython",
    "version": 3
   },
   "file_extension": ".py",
   "mimetype": "text/x-python",
   "name": "python",
   "nbconvert_exporter": "python",
   "pygments_lexer": "ipython3",
   "version": "3.11.5"
  }
 },
 "nbformat": 4,
 "nbformat_minor": 2
}
