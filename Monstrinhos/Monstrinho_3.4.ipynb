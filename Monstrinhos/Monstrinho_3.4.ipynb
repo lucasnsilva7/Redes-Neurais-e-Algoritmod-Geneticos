{
 "cells": [
  {
   "cell_type": "markdown",
   "metadata": {},
   "source": [
    "### Monstrinho 3.4 - __dunder__\n",
    "\n",
    "#### Enunciado \n",
    "\n",
    "Objetivo: Se informe sobre métodos dunder que não foram utilizados no material de\n",
    "aula e crie uma classe que contenha pelo menos 3 destes métodos dunder. Faça códigos\n",
    "onde cada um destes métodos dunder seja acessado sem os chamar explicitamente (exemplo: não é para rodar a.__add__(b) mas sim a + b para o caso do dunder __add__).\n",
    "\n",
    "Considerações do experimento: A classe deve conter pelo menos 3 métodos dunder\n",
    "que não foram vistos no material da disciplina. Sua classe deve fazer sentido, isto é, não\n",
    "crie uma classe “sem pé nem cabeça” apenas para a entrega. Reflita sobre uma classe\n",
    "onde os métodos dunder propostos realmente fazem sentido. Na sua entrega, explique\n",
    "brevemente o que fazem os métodos dunder que escolheu e mostre eles em ação com uma\n",
    "instância da sua classe.\n"
   ]
  },
  {
   "cell_type": "markdown",
   "metadata": {},
   "source": [
    "#### Ideia de classe: Placar de um jogo \n",
    "\n",
    "A classe escolhida foi uma que vai utilizar os métodos dunder \\_\\_iadd\\_\\_ para adicionar pontos a um jogador, \\_\\_isub\\_\\_ para subtrair pontos de um jogador, \\_\\_eq\\_\\_ para conferir se dois jogadores estão com a mesma pontuação, \\_\\_lt\\_\\_ e \\_\\_gt\\_\\_ para conferir qual jogador possui mais pontos."
   ]
  },
  {
   "cell_type": "code",
   "execution_count": 120,
   "metadata": {},
   "outputs": [],
   "source": [
    "class Placar:\n",
    "    def __init__(self, pont_atual, nome, tipo_jogador):\n",
    "        self.pont_atual = pont_atual\n",
    "        self.nome = nome\n",
    "        self.tipo = tipo_jogador\n",
    "        \n",
    "    def __repr__(self):\n",
    "        return f\"O {self.tipo} {self.nome} possui {self.pont_atual} pontos\"\n",
    "        \n",
    "    def __iadd__(self, ponto):\n",
    "        \"\"\"Executa a operação ponto atual += ponto\"\"\"\n",
    "        \n",
    "        self.pont_atual += ponto\n",
    "        \n",
    "        return self\n",
    "    \n",
    "    def __isub__(self, ponto):\n",
    "        \"\"\"Executa a operação ponto atual -= ponto\"\"\"\n",
    "        \n",
    "        self.pont_atual -= ponto\n",
    "        \n",
    "        return self\n",
    "    \n",
    "    def __eq__(self, jogador_2):\n",
    "        \"\"\"Confere se dois jogadores possuem a mesma quantidade de pontos\"\"\"\n",
    "        \n",
    "        if self.pont_atual == jogador_2.pont_atual:\n",
    "            return True\n",
    "        else:\n",
    "            return False\n",
    "        \n",
    "    def __lt__(jogador_1, jogador_2):\n",
    "        \"\"\"Confere se o jogador 1 tem menos pontos que o jogador 2\"\"\"\n",
    "            \n",
    "        if jogador_1.pont_atual < jogador_2.pont_atual:\n",
    "            return True\n",
    "        else: \n",
    "            return False\n",
    "        \n",
    "    def __gt__(jogador_1, jogador_2):\n",
    "        \"\"\"Confere se o jogador 1 tem mais pontos que o jogador 2\"\"\"\n",
    "        \n",
    "        if jogador_1.pont_atual > jogador_2.pont_atual:\n",
    "            return True\n",
    "        else: \n",
    "            return False\n",
    "        \n",
    "        "
   ]
  },
  {
   "cell_type": "markdown",
   "metadata": {},
   "source": [
    "#### Testando a classe Placar"
   ]
  },
  {
   "cell_type": "code",
   "execution_count": 104,
   "metadata": {},
   "outputs": [
    {
     "data": {
      "text/plain": [
       "O jogador Lucas possui 0 pontos"
      ]
     },
     "execution_count": 104,
     "metadata": {},
     "output_type": "execute_result"
    }
   ],
   "source": [
    "lucas = Placar(0, \"Lucas\", \"jogador\")\n",
    "lucas"
   ]
  },
  {
   "cell_type": "code",
   "execution_count": 105,
   "metadata": {},
   "outputs": [
    {
     "data": {
      "text/plain": [
       "O jogador Lucas possui 3 pontos"
      ]
     },
     "execution_count": 105,
     "metadata": {},
     "output_type": "execute_result"
    }
   ],
   "source": [
    "lucas += 3\n",
    "lucas"
   ]
  },
  {
   "cell_type": "code",
   "execution_count": 106,
   "metadata": {},
   "outputs": [
    {
     "data": {
      "text/plain": [
       "O jogador Lucas possui 2 pontos"
      ]
     },
     "execution_count": 106,
     "metadata": {},
     "output_type": "execute_result"
    }
   ],
   "source": [
    "lucas -= 1\n",
    "lucas"
   ]
  },
  {
   "cell_type": "code",
   "execution_count": 107,
   "metadata": {},
   "outputs": [
    {
     "data": {
      "text/plain": [
       "O jogador Luiz possui 0 pontos"
      ]
     },
     "execution_count": 107,
     "metadata": {},
     "output_type": "execute_result"
    }
   ],
   "source": [
    "luiz = Placar(0, \"Luiz\", \"jogador\")\n",
    "luiz"
   ]
  },
  {
   "cell_type": "code",
   "execution_count": 108,
   "metadata": {},
   "outputs": [
    {
     "data": {
      "text/plain": [
       "False"
      ]
     },
     "execution_count": 108,
     "metadata": {},
     "output_type": "execute_result"
    }
   ],
   "source": [
    "lucas == luiz"
   ]
  },
  {
   "cell_type": "code",
   "execution_count": 109,
   "metadata": {},
   "outputs": [
    {
     "data": {
      "text/plain": [
       "O jogador Luiz possui 2 pontos"
      ]
     },
     "execution_count": 109,
     "metadata": {},
     "output_type": "execute_result"
    }
   ],
   "source": [
    "luiz += 2\n",
    "luiz"
   ]
  },
  {
   "cell_type": "code",
   "execution_count": 110,
   "metadata": {},
   "outputs": [
    {
     "data": {
      "text/plain": [
       "True"
      ]
     },
     "execution_count": 110,
     "metadata": {},
     "output_type": "execute_result"
    }
   ],
   "source": [
    "lucas == luiz"
   ]
  },
  {
   "cell_type": "code",
   "execution_count": 111,
   "metadata": {},
   "outputs": [
    {
     "data": {
      "text/plain": [
       "O jogador Luiz possui 1 pontos"
      ]
     },
     "execution_count": 111,
     "metadata": {},
     "output_type": "execute_result"
    }
   ],
   "source": [
    "luiz -= 1\n",
    "luiz"
   ]
  },
  {
   "cell_type": "code",
   "execution_count": 112,
   "metadata": {},
   "outputs": [
    {
     "data": {
      "text/plain": [
       "True"
      ]
     },
     "execution_count": 112,
     "metadata": {},
     "output_type": "execute_result"
    }
   ],
   "source": [
    "luiz < lucas"
   ]
  },
  {
   "cell_type": "code",
   "execution_count": 113,
   "metadata": {},
   "outputs": [
    {
     "data": {
      "text/plain": [
       "True"
      ]
     },
     "execution_count": 113,
     "metadata": {},
     "output_type": "execute_result"
    }
   ],
   "source": [
    "lucas > luiz"
   ]
  },
  {
   "cell_type": "markdown",
   "metadata": {},
   "source": [
    "Com essa classe está funcionando de forma correta, vamos mostrar uma possível aplicação para ela.\n",
    "\n",
    "A ideia é montar a história de como a seleção brasileira ganhou seu pentacampeonato no ano de 2002 passando pela quantidade de gols que a selação fez em relação aos seus concorrentes e se ela ganhou os jogos a partir desses resultados.\n",
    "\n",
    "A copa do mundo é o principal torneiro de futebol organizado pela FIFA, nesse torneio, as seleções de paises que passam da etapa das eliminatórias jogam uma fase de grupos e, em seguida uma fase de #####.\n",
    "\n",
    "Na fase de grupos cada seleção em um grupo de 4 seleções joga com as outras 3 seleções do mesmo grupo. Os dois paises que mais somaram pontos nessa fase passam para a fase #####(final). Existem 8 grupos nomeados de A à H.\n",
    "\n",
    "Na fase de ###### os times que passaram para essa fase se enfrentam em um jogo que não pode terminar empatado, apenas um dos dois times passam para a próxima etapa. As etapas da fase de ##### são: oitavas de final, quartas de final, semifinais e, finalmente, a final.\n",
    "\n",
    "A trajetória do Brasil para alcançar o pentacampeonato de 2002 é descrita pela imagem abaixo:\n",
    "\n",
    "<img title=\"Tabela da classificação de estrelas\" alt=\"Alt text\" src=\"Imagens/Trajetoria_selecao_2002.png\">"
   ]
  },
  {
   "cell_type": "markdown",
   "metadata": {},
   "source": [
    "#### Definindo a função partida"
   ]
  },
  {
   "cell_type": "code",
   "execution_count": 139,
   "metadata": {},
   "outputs": [],
   "source": [
    "def partida(time_2, gols_br, gols_2):\n",
    "    \n",
    "    Brasil = Placar(0, \"Brasil\", \"time\")\n",
    "    selecao_2 = Placar(0, str(time_2), \"time\")\n",
    "\n",
    "    print(\"Início do jogo\")\n",
    "    print(Brasil)\n",
    "    print(selecao_2)\n",
    "\n",
    "    print()\n",
    "    print(\"Fim de jogo\")\n",
    "    Brasil += gols_br\n",
    "    selecao_2 += gols_2\n",
    "\n",
    "    print(Brasil)\n",
    "    print(selecao_2)\n",
    "    print(f\"O placar final é Brasil {gols_br} x {gols_2} {selecao_2.nome}\")\n",
    "    print()\n",
    "\n",
    "    if Brasil > selecao_2:\n",
    "        print(\"Brasil ganhou \\nBrasil sil sil\")\n",
    "    elif Brasil < selecao_2:\n",
    "        print(\"Brasil perdeu\")\n",
    "    elif Brasil == selecao_2:\n",
    "        print(\"Penaltis para o desempate\")"
   ]
  },
  {
   "cell_type": "markdown",
   "metadata": {},
   "source": [
    "**Fase de grupos**\n",
    "\n",
    "Brasil x Turquia"
   ]
  },
  {
   "cell_type": "code",
   "execution_count": 140,
   "metadata": {},
   "outputs": [
    {
     "name": "stdout",
     "output_type": "stream",
     "text": [
      "Início do jogo\n",
      "O time Brasil possui 0 pontos\n",
      "O time Turquia possui 0 pontos\n",
      "\n",
      "Fim de jogo\n",
      "O time Brasil possui 2 pontos\n",
      "O time Turquia possui 1 pontos\n",
      "O placar final é Brasil 2 x 1 Turquia\n",
      "\n",
      "Brasil ganhou \n",
      "Brasil sil sil\n"
     ]
    }
   ],
   "source": [
    "partida(\"Turquia\", 2, 1)"
   ]
  },
  {
   "cell_type": "code",
   "execution_count": 141,
   "metadata": {},
   "outputs": [
    {
     "name": "stdout",
     "output_type": "stream",
     "text": [
      "Início do jogo\n",
      "O time Brasil possui 0 pontos\n",
      "O time China possui 0 pontos\n",
      "\n",
      "Fim de jogo\n",
      "O time Brasil possui 4 pontos\n",
      "O time China possui 0 pontos\n",
      "O placar final é Brasil 4 x 0 China\n",
      "\n",
      "Brasil ganhou \n",
      "Brasil sil sil\n"
     ]
    }
   ],
   "source": [
    "partida(\"China\", 4, 0)"
   ]
  },
  {
   "cell_type": "code",
   "execution_count": null,
   "metadata": {},
   "outputs": [],
   "source": []
  }
 ],
 "metadata": {
  "kernelspec": {
   "display_name": "base",
   "language": "python",
   "name": "python3"
  },
  "language_info": {
   "codemirror_mode": {
    "name": "ipython",
    "version": 3
   },
   "file_extension": ".py",
   "mimetype": "text/x-python",
   "name": "python",
   "nbconvert_exporter": "python",
   "pygments_lexer": "ipython3",
   "version": "3.11.5"
  }
 },
 "nbformat": 4,
 "nbformat_minor": 2
}
