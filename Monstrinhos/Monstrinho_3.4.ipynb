{
 "cells": [
  {
   "cell_type": "markdown",
   "metadata": {},
   "source": [
    "### Monstrinho 3.4 - __dunder__\n",
    "\n",
    "#### Enunciado \n",
    "\n",
    "Objetivo: Se informe sobre métodos dunder que não foram utilizados no material de\n",
    "aula e crie uma classe que contenha pelo menos 3 destes métodos dunder. Faça códigos\n",
    "onde cada um destes métodos dunder seja acessado sem os chamar explicitamente (exemplo: não é para rodar a.__add__(b) mas sim a + b para o caso do dunder __add__).\n",
    "\n",
    "Considerações do experimento: A classe deve conter pelo menos 3 métodos dunder\n",
    "que não foram vistos no material da disciplina. Sua classe deve fazer sentido, isto é, não\n",
    "crie uma classe “sem pé nem cabeça” apenas para a entrega. Reflita sobre uma classe\n",
    "onde os métodos dunder propostos realmente fazem sentido. Na sua entrega, explique\n",
    "brevemente o que fazem os métodos dunder que escolheu e mostre eles em ação com uma\n",
    "instância da sua classe.\n"
   ]
  },
  {
   "cell_type": "code",
   "execution_count": null,
   "metadata": {
    "vscode": {
     "languageId": "plaintext"
    }
   },
   "outputs": [],
   "source": []
  }
 ],
 "metadata": {
  "language_info": {
   "name": "python"
  }
 },
 "nbformat": 4,
 "nbformat_minor": 2
}
