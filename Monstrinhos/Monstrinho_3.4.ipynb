{
 "cells": [
  {
   "cell_type": "markdown",
   "metadata": {},
   "source": [
    "### Monstrinho 3.4 - __dunder__\n",
    "\n",
    "#### Enunciado \n",
    "\n",
    "Objetivo: Se informe sobre métodos dunder que não foram utilizados no material de\n",
    "aula e crie uma classe que contenha pelo menos 3 destes métodos dunder. Faça códigos\n",
    "onde cada um destes métodos dunder seja acessado sem os chamar explicitamente (exemplo: não é para rodar a.__add__(b) mas sim a + b para o caso do dunder __add__).\n",
    "\n",
    "Considerações do experimento: A classe deve conter pelo menos 3 métodos dunder\n",
    "que não foram vistos no material da disciplina. Sua classe deve fazer sentido, isto é, não\n",
    "crie uma classe “sem pé nem cabeça” apenas para a entrega. Reflita sobre uma classe\n",
    "onde os métodos dunder propostos realmente fazem sentido. Na sua entrega, explique\n",
    "brevemente o que fazem os métodos dunder que escolheu e mostre eles em ação com uma\n",
    "instância da sua classe.\n"
   ]
  },
  {
   "cell_type": "markdown",
   "metadata": {},
   "source": [
    "#### Ideia de classe: Placar de um jogo \n",
    "\n",
    "A classe escolhida foi uma que vai utilizar os métodos dunder \\_\\_iadd\\_\\_ para adicionar pontos a um jogador, \\_\\_isub\\_\\_ para subtrair pontos de um jogador, \\_\\_eq\\_\\_ para conferir se dois jogadores estão com a mesma pontuação, \\_\\_lt\\_\\_ e \\_\\_gt\\_\\_ para conferir qual jogador possui mais pontos."
   ]
  },
  {
   "cell_type": "code",
   "execution_count": 103,
   "metadata": {},
   "outputs": [],
   "source": [
    "class Placar:\n",
    "    def __init__(self, pont_atual, nome):\n",
    "        self.pont_atual = pont_atual\n",
    "        self.nome = nome\n",
    "        \n",
    "    def __repr__(self):\n",
    "        return f\"O jogador {self.nome} possui {self.pont_atual} pontos\"\n",
    "        \n",
    "    def __iadd__(self, ponto):\n",
    "        \"\"\"Executa a operação ponto atual += ponto\"\"\"\n",
    "        \n",
    "        self.pont_atual += ponto\n",
    "        \n",
    "        return self\n",
    "    \n",
    "    def __isub__(self, ponto):\n",
    "        \"\"\"Executa a operação ponto atual -= ponto\"\"\"\n",
    "        \n",
    "        self.pont_atual -= ponto\n",
    "        \n",
    "        return self\n",
    "    \n",
    "    def __eq__(self, jogador_2):\n",
    "        \"\"\"Confere se dois jogadores possuem a mesma quantidade de pontos\"\"\"\n",
    "        \n",
    "        if self.pont_atual == jogador_2.pont_atual:\n",
    "            return True\n",
    "        else:\n",
    "            return False\n",
    "        \n",
    "    def __lt__(jogador_1, jogador_2):\n",
    "        \"\"\"Confere se o jogador 1 tem menos pontos que o jogador 2\"\"\"\n",
    "            \n",
    "        if jogador_1.pont_atual < jogador_2.pont_atual:\n",
    "            return True\n",
    "        else: \n",
    "            return False\n",
    "        \n",
    "    def __gt__(jogador_1, jogador_2):\n",
    "        \"\"\"Confere se o jogador 1 tem mais pontos que o jogador 2\"\"\"\n",
    "        \n",
    "        if jogador_1.pont_atual > jogador_2.pont_atual:\n",
    "            return True\n",
    "        else: \n",
    "            return False\n",
    "        \n",
    "        "
   ]
  },
  {
   "cell_type": "markdown",
   "metadata": {},
   "source": [
    "#### Testando a classe Placar"
   ]
  },
  {
   "cell_type": "code",
   "execution_count": 104,
   "metadata": {},
   "outputs": [
    {
     "data": {
      "text/plain": [
       "O jogador Lucas possui 0 pontos"
      ]
     },
     "execution_count": 104,
     "metadata": {},
     "output_type": "execute_result"
    }
   ],
   "source": [
    "lucas = Placar(0, \"Lucas\")\n",
    "lucas"
   ]
  },
  {
   "cell_type": "code",
   "execution_count": 105,
   "metadata": {},
   "outputs": [
    {
     "data": {
      "text/plain": [
       "O jogador Lucas possui 3 pontos"
      ]
     },
     "execution_count": 105,
     "metadata": {},
     "output_type": "execute_result"
    }
   ],
   "source": [
    "lucas += 3\n",
    "lucas"
   ]
  },
  {
   "cell_type": "code",
   "execution_count": 106,
   "metadata": {},
   "outputs": [
    {
     "data": {
      "text/plain": [
       "O jogador Lucas possui 2 pontos"
      ]
     },
     "execution_count": 106,
     "metadata": {},
     "output_type": "execute_result"
    }
   ],
   "source": [
    "lucas -= 1\n",
    "lucas"
   ]
  },
  {
   "cell_type": "code",
   "execution_count": 107,
   "metadata": {},
   "outputs": [
    {
     "data": {
      "text/plain": [
       "O jogador Luiz possui 0 pontos"
      ]
     },
     "execution_count": 107,
     "metadata": {},
     "output_type": "execute_result"
    }
   ],
   "source": [
    "luiz = Placar(0, \"Luiz\")\n",
    "luiz"
   ]
  },
  {
   "cell_type": "code",
   "execution_count": 108,
   "metadata": {},
   "outputs": [
    {
     "data": {
      "text/plain": [
       "False"
      ]
     },
     "execution_count": 108,
     "metadata": {},
     "output_type": "execute_result"
    }
   ],
   "source": [
    "lucas == luiz"
   ]
  },
  {
   "cell_type": "code",
   "execution_count": 109,
   "metadata": {},
   "outputs": [
    {
     "data": {
      "text/plain": [
       "O jogador Luiz possui 2 pontos"
      ]
     },
     "execution_count": 109,
     "metadata": {},
     "output_type": "execute_result"
    }
   ],
   "source": [
    "luiz += 2\n",
    "luiz"
   ]
  },
  {
   "cell_type": "code",
   "execution_count": 110,
   "metadata": {},
   "outputs": [
    {
     "data": {
      "text/plain": [
       "True"
      ]
     },
     "execution_count": 110,
     "metadata": {},
     "output_type": "execute_result"
    }
   ],
   "source": [
    "lucas == luiz"
   ]
  },
  {
   "cell_type": "code",
   "execution_count": null,
   "metadata": {},
   "outputs": [],
   "source": []
  }
 ],
 "metadata": {
  "kernelspec": {
   "display_name": "base",
   "language": "python",
   "name": "python3"
  },
  "language_info": {
   "codemirror_mode": {
    "name": "ipython",
    "version": 3
   },
   "file_extension": ".py",
   "mimetype": "text/x-python",
   "name": "python",
   "nbconvert_exporter": "python",
   "pygments_lexer": "ipython3",
   "version": "3.11.5"
  }
 },
 "nbformat": 4,
 "nbformat_minor": 2
}
