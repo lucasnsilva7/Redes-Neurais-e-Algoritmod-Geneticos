{
 "cells": [
  {
   "cell_type": "code",
   "execution_count": 6,
   "metadata": {},
   "outputs": [],
   "source": [
    "class Elemento:\n",
    "    \"\"\"Cria um elemento da tabela periódica\"\"\"\n",
    "    \n",
    "    def __init__(self, simbolo, numero_atomico, peso_atomico):\n",
    "        self.si = simbolo\n",
    "        self.na = numero_atomico\n",
    "        self.pa = peso_atomico"
   ]
  },
  {
   "cell_type": "code",
   "execution_count": 12,
   "metadata": {},
   "outputs": [],
   "source": [
    "oxigenio = Elemento(\"O\", 8, 15.999)\n",
    "hidrogenio = Elemento(\"H\", 1, 1.008)\n",
    "\n",
    "dicionario = {\n",
    "    hidrogenio: 2,\n",
    "    oxigenio: 1\n",
    "}"
   ]
  },
  {
   "cell_type": "code",
   "execution_count": 43,
   "metadata": {},
   "outputs": [],
   "source": [
    "class Molecula:\n",
    "    \"\"\"Cria uma molécula a partir de elementos\"\"\"\n",
    "    \n",
    "    def __init__(self, dicionario):\n",
    "        self.dic = dicionario \n",
    "    \n",
    "    def calcular_peso(self):\n",
    "        \n",
    "        peso_molecula = 0\n",
    "        \n",
    "        for elemento, quantidade in self.dic.items():\n",
    "             peso_molecula += quantidade * elemento.pa\n",
    "             \n",
    "        return peso_molecula\n",
    "    \n",
    "    def criar_nome(self):\n",
    "        \n",
    "        formula = \"\"\n",
    "        \n",
    "        for elemento, quantidade in self.dic.items():\n",
    "            \n",
    "            formula += f\"{elemento.si}{quantidade}\"\n",
    "             \n",
    "    def __repr__(self):\n",
    "        return f\"A molécula tem a fórmula {self.criar_nome()} & {self.calcular_peso()}\" "
   ]
  },
  {
   "cell_type": "code",
   "execution_count": 44,
   "metadata": {},
   "outputs": [
    {
     "data": {
      "text/plain": [
       "A molécula tem a fórmula None & 18.015"
      ]
     },
     "execution_count": 44,
     "metadata": {},
     "output_type": "execute_result"
    }
   ],
   "source": [
    "agua = Molecula(dicionario)\n",
    "agua"
   ]
  },
  {
   "cell_type": "code",
   "execution_count": 42,
   "metadata": {},
   "outputs": [
    {
     "name": "stdout",
     "output_type": "stream",
     "text": [
      "JoseVictor\n"
     ]
    }
   ],
   "source": []
  },
  {
   "cell_type": "code",
   "execution_count": null,
   "metadata": {},
   "outputs": [],
   "source": []
  }
 ],
 "metadata": {
  "kernelspec": {
   "display_name": "base",
   "language": "python",
   "name": "python3"
  },
  "language_info": {
   "codemirror_mode": {
    "name": "ipython",
    "version": 3
   },
   "file_extension": ".py",
   "mimetype": "text/x-python",
   "name": "python",
   "nbconvert_exporter": "python",
   "pygments_lexer": "ipython3",
   "version": "3.11.5"
  }
 },
 "nbformat": 4,
 "nbformat_minor": 2
}
