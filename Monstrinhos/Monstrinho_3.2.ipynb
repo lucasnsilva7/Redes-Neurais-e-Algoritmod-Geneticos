{
 "cells": [
  {
   "cell_type": "markdown",
   "metadata": {},
   "source": [
    "### Monstrinho 3.2 - “Átomos não são bolinhas e ligações químicas não são pauzinhos” — Prof. Julio\n",
    "\n",
    "#### Enunciado:\n",
    "Objetivo: Utilize classes de Python para modelar elementos químicos e moléculas.\n",
    "\n",
    "Considerações do experimento: Crie uma classe chamada Elemento. Todo elemento químico utilizado nesta tarefa deve ser uma instância desta classe. Toda instância da classe Elemento deve ter os seguintes atributos: símbolo do elemento, número atômico\n",
    "do elemento e peso atômico do elemento (fique à vontade para incluir outras informações\n",
    "se quiser). Crie uma classe chamada Molecula. Esta classe deve receber um dicionário\n",
    "onde as chaves representam os elementos e os valores representam a quantidade do respectivo elemento. A classe Molecula deve ter um método capaz de exibir o peso atômico\n",
    "3\n",
    "da molécula criada e um método capaz gerar uma fórmula química (em string) para esta\n",
    "molécula.\n",
    "Observação: não é necessário que a fórmula química siga as regras oficiais da química,\n",
    "basta representar os elementos existentes e suas quantidades."
   ]
  },
  {
   "cell_type": "markdown",
   "metadata": {},
   "source": [
    "#### Introdução\n",
    "\n",
    "Basicamente  ideia é criar duas classes, uma chamada elemento que classifica algumas informações úteis sobre alguns elementos e outra que forma a formula química de uma molécula e da o peso atômico dela. "
   ]
  },
  {
   "cell_type": "markdown",
   "metadata": {},
   "source": [
    "#### Criando a classe Elemento"
   ]
  },
  {
   "cell_type": "code",
   "execution_count": 62,
   "metadata": {},
   "outputs": [],
   "source": [
    "class Elemento:\n",
    "    \"\"\"Cria um elemento da tabela periódica\"\"\"\n",
    "    \n",
    "    def __init__(self, simbolo, numero_atomico, peso_atomico):\n",
    "        self.si = simbolo\n",
    "        self.na = numero_atomico\n",
    "        self.pa = peso_atomico"
   ]
  },
  {
   "cell_type": "markdown",
   "metadata": {},
   "source": [
    "#### Criando a classe Molécula"
   ]
  },
  {
   "cell_type": "code",
   "execution_count": 63,
   "metadata": {},
   "outputs": [],
   "source": [
    "class Molecula:\n",
    "    \"\"\"Cria uma molécula a partir de elementos\"\"\"\n",
    "    \n",
    "    def __init__(self, dicionario):\n",
    "        self.dic = dicionario \n",
    "    \n",
    "    def calcular_peso(self):\n",
    "        \n",
    "        peso_molecula = 0\n",
    "        \n",
    "        for elemento, quantidade in self.dic.items():\n",
    "             peso_molecula += quantidade * elemento.pa\n",
    "             \n",
    "        return peso_molecula\n",
    "    \n",
    "    def criar_nome(self):\n",
    "        \n",
    "        formula = \"\"\n",
    "        \n",
    "        for elemento, quantidade in self.dic.items():\n",
    "            \n",
    "            if quantidade > 1:\n",
    "                formula += f\"{elemento.si}{quantidade}\"\n",
    "            else:\n",
    "                formula += f\"{elemento.si}\"\n",
    "                \n",
    "        return formula\n",
    "        \n",
    "    def __repr__(self):\n",
    "        return f\"A molécula tem a fórmula {self.criar_nome()} e tem a massa {self.calcular_peso()}\" "
   ]
  },
  {
   "cell_type": "markdown",
   "metadata": {},
   "source": [
    "Observe que fiz um if para a quantidade de cada elemento, para que se essa quantidade for 1, a fórmula química não mostre o 1. Além disso, observe que foi feita uma concatenação das strings com os símbolos."
   ]
  },
  {
   "cell_type": "markdown",
   "metadata": {},
   "source": [
    "#### Realizando testes"
   ]
  },
  {
   "cell_type": "code",
   "execution_count": 64,
   "metadata": {},
   "outputs": [
    {
     "data": {
      "text/plain": [
       "A molécula tem a fórmula H2O e tem a massa 18.015"
      ]
     },
     "execution_count": 64,
     "metadata": {},
     "output_type": "execute_result"
    }
   ],
   "source": [
    "oxigenio = Elemento(\"O\", 8, 15.999)\n",
    "hidrogenio = Elemento(\"H\", 1, 1.008)\n",
    "\n",
    "dicionario_agua = {\n",
    "    hidrogenio: 2,\n",
    "    oxigenio: 1\n",
    "}\n",
    "\n",
    "agua = Molecula(dicionario_agua)\n",
    "agua"
   ]
  },
  {
   "cell_type": "code",
   "execution_count": 65,
   "metadata": {},
   "outputs": [
    {
     "data": {
      "text/plain": [
       "A molécula tem a fórmula Fe2O3 e tem a massa 159.687"
      ]
     },
     "execution_count": 65,
     "metadata": {},
     "output_type": "execute_result"
    }
   ],
   "source": [
    "ferro = Elemento(\"Fe\", 26, 55.845)\n",
    "\n",
    "dicionario_min_ferro = {\n",
    "    ferro: 2,\n",
    "    oxigenio: 3\n",
    "}\n",
    "\n",
    "minerio_de_ferro = Molecula(dicionario_min_ferro)\n",
    "minerio_de_ferro"
   ]
  },
  {
   "cell_type": "code",
   "execution_count": 66,
   "metadata": {},
   "outputs": [
    {
     "data": {
      "text/plain": [
       "A molécula tem a fórmula CO2 e tem a massa 44.009"
      ]
     },
     "execution_count": 66,
     "metadata": {},
     "output_type": "execute_result"
    }
   ],
   "source": [
    "carbono = Elemento(\"C\", 6, 12.011)\n",
    "\n",
    "dicionario_co2 = {\n",
    "    carbono: 1,\n",
    "    oxigenio: 2\n",
    "}\n",
    "\n",
    "dioxido_de_carbono = Molecula(dicionario_co2)\n",
    "dioxido_de_carbono"
   ]
  },
  {
   "cell_type": "code",
   "execution_count": 67,
   "metadata": {},
   "outputs": [
    {
     "data": {
      "text/plain": [
       "A molécula tem a fórmula C6H12O6 e tem a massa 180.156"
      ]
     },
     "execution_count": 67,
     "metadata": {},
     "output_type": "execute_result"
    }
   ],
   "source": [
    "dicionario_glicose = {\n",
    "    carbono: 6,\n",
    "    hidrogenio: 12,\n",
    "    oxigenio: 6\n",
    "}\n",
    "\n",
    "\n",
    "glicose = Molecula(dicionario_glicose)\n",
    "glicose"
   ]
  },
  {
   "cell_type": "markdown",
   "metadata": {},
   "source": [
    "#### Conclusão\n",
    "\n",
    "As classes foram muito úteis nesse caso, elas foram capazes de fazer o cálculo da massa da molécula perfeitamente, além de apresentar a fórmula bem. Isso demonstra que as classes podem ser muito úteis em diversos casos."
   ]
  },
  {
   "cell_type": "markdown",
   "metadata": {},
   "source": [
    "#### Referências\n",
    "\n",
    "Tabela Periódica - Ptable. Disponível em: <https://ptable.com/?lang=pt#Propriedades>."
   ]
  }
 ],
 "metadata": {
  "kernelspec": {
   "display_name": "base",
   "language": "python",
   "name": "python3"
  },
  "language_info": {
   "codemirror_mode": {
    "name": "ipython",
    "version": 3
   },
   "file_extension": ".py",
   "mimetype": "text/x-python",
   "name": "python",
   "nbconvert_exporter": "python",
   "pygments_lexer": "ipython3",
   "version": "3.11.5"
  }
 },
 "nbformat": 4,
 "nbformat_minor": 2
}
