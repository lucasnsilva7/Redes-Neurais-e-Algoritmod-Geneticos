{
 "cells": [
  {
   "cell_type": "markdown",
   "metadata": {},
   "source": [
    "### Fera formidável 4.6 - E se meus dados forem imagens?\n",
    "\n",
    "#### Enunciado\n",
    "\n",
    "Objetivo: implementar uma rede neural convolucional (CNN) utilizando PyTorch ou\n",
    "lightning. Treine esta rede neural em um conjunto de dados de imagens. Explique para\n",
    "o leitor como funciona a camada de convolução de uma CNN e o motivo de utilizarmos\n",
    "este tipo de arquitetura quando estudamos imagens.\n",
    "\n",
    "Dica: um dos mais famosos conjuntos de dados de imagens é o MNIST."
   ]
  },
  {
   "cell_type": "code",
   "execution_count": 33,
   "metadata": {},
   "outputs": [],
   "source": [
    "import torch\n",
    "import torch.nn as nn \n",
    "import torch.optim as optim \n",
    "import torch.nn.functional as F \n",
    "from torch.utils.data import DataLoader \n",
    "import torchvision.datasets as datasets  \n",
    "import torchvision.transforms as transforms\n",
    "import time"
   ]
  },
  {
   "cell_type": "code",
   "execution_count": 34,
   "metadata": {},
   "outputs": [],
   "source": [
    "class CNN(nn.Module):\n",
    "    def __init__(self): \n",
    "        super().__init__()\n",
    "        self.conv1 = nn.Conv2d(in_channels=1, out_channels=32, kernel_size=(3, 3), stride=(1, 1), padding=(1, 1)) # Primeira camada convolucional\n",
    "        self.conv2 = nn.Conv2d(in_channels=32, out_channels=64, kernel_size=(3, 3), stride=(1, 1), padding=(1, 1)) # Segunda camada convolucional   \n",
    "        self.pool = nn.MaxPool2d(kernel_size=(2, 2), stride=(2, 2)) # Camada de agrupamento máximo que reduz as dimensões de largura e altura pela metade\n",
    "        self.fc1 = nn.Linear(7*7*64, 128) # Camada totalmente conectada 1\n",
    "        self.fc2 = nn.Linear(128, 10) # Camada totalmente conectada 2\n",
    "\n",
    "    def forward(self, x):\n",
    "        x = F.relu(self.conv1(x))\n",
    "        x = self.pool(x)\n",
    "        x = F.relu(self.conv2(x))\n",
    "        x = self.pool(x)\n",
    "        x = x.view(-1, 7*7*64)\n",
    "        x = F.relu(self.fc1(x))\n",
    "\n",
    "        return x"
   ]
  },
  {
   "cell_type": "code",
   "execution_count": 40,
   "metadata": {},
   "outputs": [],
   "source": [
    "BATCH_SIZE = 64 # Número de amostras de imagens processadas ao mesmo tempo a cada iteração\n",
    "\n",
    "# Carregando dados de treino train= True\n",
    "df_treino = datasets.MNIST(root= 'dataset/' , train= True , transform=transforms.ToTensor(), download= True ) \n",
    "loader_treino = DataLoader(dataset=df_treino, batch_size=BATCH_SIZE, shuffle= True ) \n",
    "\n",
    "# Carregando dados de teste train= False\n",
    "df_teste = datasets.MNIST(root= 'dataset/' , train= False , transform=transforms.ToTensor(), download= True ) \n",
    "loader_teste = DataLoader(dataset=df_teste, batch_size=BATCH_SIZE, shuffle= True )"
   ]
  },
  {
   "cell_type": "code",
   "execution_count": 35,
   "metadata": {},
   "outputs": [
    {
     "data": {
      "text/plain": [
       "device(type='cpu')"
      ]
     },
     "execution_count": 35,
     "metadata": {},
     "output_type": "execute_result"
    }
   ],
   "source": [
    "# Apesar de não ajudar no caso de GPU integrada achei interessante manter essa linha\n",
    "\n",
    "device = torch.device( 'cuda'  if torch.cuda.is_available() else  'cpu' )\n",
    "device"
   ]
  },
  {
   "cell_type": "code",
   "execution_count": 36,
   "metadata": {},
   "outputs": [],
   "source": [
    "TAXA_APRENDIZADO = 0.001\n",
    "NUM_EPOCAS = 10 # A cada época a rede neural terá passado por todas as imagens do dataset\n",
    "\n",
    "modelo = CNN().to(device)"
   ]
  },
  {
   "cell_type": "code",
   "execution_count": 37,
   "metadata": {},
   "outputs": [],
   "source": [
    "perda = nn.CrossEntropyLoss() # Mede a dissimilaridade entra a distribuição de rótulos verdadeira e as previsões do modelo\n",
    "otimizador = optim.Adam(modelo.parameters(), lr= TAXA_APRENDIZADO)"
   ]
  },
  {
   "cell_type": "code",
   "execution_count": 38,
   "metadata": {},
   "outputs": [
    {
     "name": "stdout",
     "output_type": "stream",
     "text": [
      "Época: 1 concluída\n",
      "Época: 2 concluída\n",
      "Época: 3 concluída\n",
      "Época: 4 concluída\n",
      "Época: 5 concluída\n",
      "Época: 6 concluída\n",
      "Época: 7 concluída\n",
      "Época: 8 concluída\n",
      "Época: 9 concluída\n",
      "Época: 10 concluída\n",
      "Treinamento finalizado após 8.317753819624583 minutos\n"
     ]
    }
   ],
   "source": [
    "inicio = time.time()\n",
    "for epoca in range(NUM_EPOCAS):\n",
    "    for images, labels in loader_treino:\n",
    "        outputs = modelo(images)\n",
    "        loss = perda(outputs, labels)\n",
    "        otimizador.zero_grad()\n",
    "        loss.backward()\n",
    "        otimizador.step()\n",
    "        \n",
    "    print(f\"Época {epoca + 1} concluída\")\n",
    "\n",
    "fim = time.time()\n",
    "print(f\"Treinamento finalizado após {(fim - inicio) / 60} minutos\")"
   ]
  },
  {
   "cell_type": "code",
   "execution_count": 41,
   "metadata": {},
   "outputs": [
    {
     "name": "stdout",
     "output_type": "stream",
     "text": [
      "Acurácia: 59.60%\n"
     ]
    }
   ],
   "source": [
    "# Loop de validação\n",
    "num_acertos = 0\n",
    "num_total = 0\n",
    "\n",
    "for imagens, rotulos in loader_teste:\n",
    "    imagens = imagens.to(device)\n",
    "    rotulos = rotulos.to(device)\n",
    "\n",
    "    saida = modelo(imagens)                      # Passa as imagens pela CNN\n",
    "    previsoes = torch.argmax(saida, dim=1)       # Pega a classe com maior probabilidade\n",
    "\n",
    "    acertos = (previsoes == rotulos).sum().item()  # Conta quantos acertaram\n",
    "    num_acertos += acertos\n",
    "    num_total += rotulos.size(0)                  # Soma quantas imagens tinham no batch\n",
    "\n",
    "# Depois do loop:\n",
    "acuracia = num_acertos / num_total\n",
    "print(f'Acurácia: {acuracia * 100:.2f}%')\n"
   ]
  },
  {
   "cell_type": "markdown",
   "metadata": {},
   "source": [
    "### Referências\n",
    "\n",
    "BHARGAVI POYEKAR. Building simple Neural Networks using Pytorch (NN, CNN) for MNIST dataset. Disponível em: <https://medium.com/%40bpoyeka1/building-simple-neural-networks-nn-cnn-using-pytorch-for-mnist-dataset-31e459d17788>. Acesso em: 2 maio. 2025."
   ]
  }
 ],
 "metadata": {
  "kernelspec": {
   "display_name": "base",
   "language": "python",
   "name": "python3"
  },
  "language_info": {
   "codemirror_mode": {
    "name": "ipython",
    "version": 3
   },
   "file_extension": ".py",
   "mimetype": "text/x-python",
   "name": "python",
   "nbconvert_exporter": "python",
   "pygments_lexer": "ipython3",
   "version": "3.11.5"
  }
 },
 "nbformat": 4,
 "nbformat_minor": 2
}
