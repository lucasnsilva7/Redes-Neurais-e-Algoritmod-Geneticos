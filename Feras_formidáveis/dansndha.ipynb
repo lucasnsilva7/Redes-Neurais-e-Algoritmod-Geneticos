{
 "cells": [
  {
   "cell_type": "code",
   "execution_count": null,
   "metadata": {},
   "outputs": [],
   "source": [
    "df = sns.load_dataset(\"iris\")\n",
    "df\n",
    "\n",
    "sepal_lenght = df[\"sepal_length\"].values.tolist()\n",
    "sepal_width = df[\"sepal_width\"].values.tolist()\n",
    "petal_lenght = df[\"petal_length\"].values.tolist()\n",
    "petal_width = df[\"petal_width\"].values.tolist()\n",
    "\n",
    "x = []\n",
    "for pet_l in petal_lenght:\n",
    "    x.append([pet_l])\n",
    "\n",
    "#x = []\n",
    "#for sep_l, sep_w, pet_l in zip(sepal_lenght, sepal_width, petal_lenght):\n",
    "#  x.append([sep_l, sep_w, pet_l])\n",
    "  \n",
    "print(x)\n",
    " \n",
    "y_true = petal_width\n",
    "\n",
    "print(y_true)\n",
    "\n",
    "normalizador = StandardScaler()\n",
    "\n",
    "x = df[\"petal_length\"].values.reshape(-1,1)\n",
    "y_true = df[\"petal_width\"].values.reshape(-1,1)\n",
    "\n",
    "normalizador.fit(x)\n",
    "normalizador.fit(y_true)\n",
    "\n",
    "x = normalizador.transform(x)\n",
    "y_true = normalizador.transform(y_true)\n",
    "\n",
    "x = x.tolist()\n",
    "y_true = y_true.tolist()\n",
    "\n",
    "x_n = []\n",
    "for i in x:\n",
    "    x_n.append(i)\n",
    "        \n",
    "y_n = []\n",
    "for i in y_true:\n",
    "    for j in i:\n",
    "        y_n.append(j)\n",
    "        \n",
    "print(x_n)\n",
    "print(y_n)\n",
    "\n",
    "x = x_n\n",
    "y_true = y_n"
   ]
  }
 ],
 "metadata": {
  "language_info": {
   "name": "python"
  }
 },
 "nbformat": 4,
 "nbformat_minor": 2
}
